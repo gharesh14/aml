{
 "cells": [
  {
   "cell_type": "code",
   "execution_count": 1,
   "id": "71a0df22",
   "metadata": {},
   "outputs": [],
   "source": [
    "# Load the dataset\n",
    "import pandas as pd"
   ]
  },
  {
   "cell_type": "code",
   "execution_count": 5,
   "id": "1bfffe9f",
   "metadata": {},
   "outputs": [],
   "source": [
    "# Load the dataset\n",
    "data = pd.read_csv('market_basket.txt')"
   ]
  },
  {
   "cell_type": "code",
   "execution_count": 6,
   "id": "a751bbb8",
   "metadata": {},
   "outputs": [],
   "source": [
    "# Convert the dataset into the required format (list of transactions)\n",
    "transactions = [list(row.dropna()) for _, row in data.iterrows()]"
   ]
  },
  {
   "cell_type": "code",
   "execution_count": 7,
   "id": "81f4fcec",
   "metadata": {},
   "outputs": [],
   "source": [
    "# Define the minimum support count\n",
    "min_support = 2"
   ]
  },
  {
   "cell_type": "code",
   "execution_count": 8,
   "id": "10d8e2e3",
   "metadata": {},
   "outputs": [],
   "source": [
    "# Create itemsets\n",
    "itemsets = {}\n",
    "for transaction_idx, transaction in enumerate(transactions):\n",
    "    for item in transaction:\n",
    "        itemsets.setdefault(item, set()).add(transaction_idx)"
   ]
  },
  {
   "cell_type": "code",
   "execution_count": 9,
   "id": "3fb504fa",
   "metadata": {},
   "outputs": [],
   "source": [
    "# Generate frequent itemsets\n",
    "frequent_itemsets = {}\n",
    "for item in itemsets:\n",
    "    support = len(itemsets[item])\n",
    "    if support >= min_support:\n",
    "        frequent_itemsets[(item,)] = support"
   ]
  },
  {
   "cell_type": "code",
   "execution_count": 11,
   "id": "548dae32",
   "metadata": {},
   "outputs": [],
   "source": [
    "# Iterate through itemsets to find combinations\n",
    "for i, itemset1 in enumerate(list(frequent_itemsets.keys())):\n",
    "    for j in range(i+1, len(list(frequent_itemsets.keys()))):\n",
    "        itemset2 = list(frequent_itemsets.keys())[j]\n",
    "        combined_itemset = tuple(sorted(set(itemset1) | set(itemset2)))\n",
    "        support = min(len(itemsets[item]) for item in combined_itemset)\n",
    "        if support >= min_support:\n",
    "            frequent_itemsets[combined_itemset] = support"
   ]
  },
  {
   "cell_type": "code",
   "execution_count": 12,
   "id": "274f9dfa",
   "metadata": {},
   "outputs": [
    {
     "name": "stdout",
     "output_type": "stream",
     "text": [
      "Itemset: ('bread',), Support: 3\n",
      "Itemset: ('diapers',), Support: 4\n",
      "Itemset: ('beer',), Support: 3\n",
      "Itemset: ('milk',), Support: 3\n",
      "Itemset: ('cola',), Support: 2\n",
      "Itemset: ('bread', 'diapers'), Support: 3\n",
      "Itemset: ('beer', 'bread'), Support: 3\n",
      "Itemset: ('bread', 'milk'), Support: 3\n",
      "Itemset: ('bread', 'cola'), Support: 2\n",
      "Itemset: ('beer', 'diapers'), Support: 3\n",
      "Itemset: ('diapers', 'milk'), Support: 3\n",
      "Itemset: ('cola', 'diapers'), Support: 2\n",
      "Itemset: ('beer', 'bread', 'diapers'), Support: 3\n",
      "Itemset: ('bread', 'diapers', 'milk'), Support: 3\n",
      "Itemset: ('bread', 'cola', 'diapers'), Support: 2\n",
      "Itemset: ('beer', 'milk'), Support: 3\n",
      "Itemset: ('beer', 'cola'), Support: 2\n",
      "Itemset: ('beer', 'bread', 'milk'), Support: 3\n",
      "Itemset: ('beer', 'bread', 'cola'), Support: 2\n",
      "Itemset: ('beer', 'diapers', 'milk'), Support: 3\n",
      "Itemset: ('beer', 'cola', 'diapers'), Support: 2\n",
      "Itemset: ('beer', 'bread', 'diapers', 'milk'), Support: 3\n",
      "Itemset: ('beer', 'bread', 'cola', 'diapers'), Support: 2\n",
      "Itemset: ('cola', 'milk'), Support: 2\n",
      "Itemset: ('bread', 'cola', 'milk'), Support: 2\n",
      "Itemset: ('cola', 'diapers', 'milk'), Support: 2\n",
      "Itemset: ('bread', 'cola', 'diapers', 'milk'), Support: 2\n",
      "Itemset: ('beer', 'cola', 'milk'), Support: 2\n",
      "Itemset: ('beer', 'bread', 'cola', 'milk'), Support: 2\n",
      "Itemset: ('beer', 'cola', 'diapers', 'milk'), Support: 2\n",
      "Itemset: ('beer', 'bread', 'cola', 'diapers', 'milk'), Support: 2\n"
     ]
    }
   ],
   "source": [
    "# Print frequent itemsets and their support counts\n",
    "for itemset, support in frequent_itemsets.items():\n",
    "    print(f\"Itemset: {itemset}, Support: {support}\")"
   ]
  },
  {
   "cell_type": "code",
   "execution_count": null,
   "id": "a1e9d41f",
   "metadata": {},
   "outputs": [],
   "source": []
  }
 ],
 "metadata": {
  "kernelspec": {
   "display_name": "Python 3 (ipykernel)",
   "language": "python",
   "name": "python3"
  },
  "language_info": {
   "codemirror_mode": {
    "name": "ipython",
    "version": 3
   },
   "file_extension": ".py",
   "mimetype": "text/x-python",
   "name": "python",
   "nbconvert_exporter": "python",
   "pygments_lexer": "ipython3",
   "version": "3.9.12"
  }
 },
 "nbformat": 4,
 "nbformat_minor": 5
}
