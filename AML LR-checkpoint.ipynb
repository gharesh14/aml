{
 "cells": [
  {
   "cell_type": "code",
   "execution_count": 1,
   "id": "dd90e9e8",
   "metadata": {},
   "outputs": [],
   "source": [
    "import pandas as pd\n",
    "import matplotlib.pyplot as plt"
   ]
  },
  {
   "cell_type": "code",
   "execution_count": 15,
   "id": "1bd50685",
   "metadata": {},
   "outputs": [
    {
     "data": {
      "text/html": [
       "<div>\n",
       "<style scoped>\n",
       "    .dataframe tbody tr th:only-of-type {\n",
       "        vertical-align: middle;\n",
       "    }\n",
       "\n",
       "    .dataframe tbody tr th {\n",
       "        vertical-align: top;\n",
       "    }\n",
       "\n",
       "    .dataframe thead th {\n",
       "        text-align: right;\n",
       "    }\n",
       "</style>\n",
       "<table border=\"1\" class=\"dataframe\">\n",
       "  <thead>\n",
       "    <tr style=\"text-align: right;\">\n",
       "      <th></th>\n",
       "      <th>Pregnancies</th>\n",
       "      <th>Glucose</th>\n",
       "      <th>BloodPressure</th>\n",
       "      <th>SkinThickness</th>\n",
       "      <th>Insulin</th>\n",
       "      <th>BMI</th>\n",
       "      <th>DiabetesPedigreeFunction</th>\n",
       "      <th>Age</th>\n",
       "      <th>Outcome</th>\n",
       "    </tr>\n",
       "  </thead>\n",
       "  <tbody>\n",
       "    <tr>\n",
       "      <th>0</th>\n",
       "      <td>6</td>\n",
       "      <td>148</td>\n",
       "      <td>72</td>\n",
       "      <td>35</td>\n",
       "      <td>0</td>\n",
       "      <td>33.6</td>\n",
       "      <td>0.627</td>\n",
       "      <td>50</td>\n",
       "      <td>1</td>\n",
       "    </tr>\n",
       "    <tr>\n",
       "      <th>1</th>\n",
       "      <td>1</td>\n",
       "      <td>85</td>\n",
       "      <td>66</td>\n",
       "      <td>29</td>\n",
       "      <td>0</td>\n",
       "      <td>26.6</td>\n",
       "      <td>0.351</td>\n",
       "      <td>31</td>\n",
       "      <td>0</td>\n",
       "    </tr>\n",
       "    <tr>\n",
       "      <th>2</th>\n",
       "      <td>8</td>\n",
       "      <td>183</td>\n",
       "      <td>64</td>\n",
       "      <td>0</td>\n",
       "      <td>0</td>\n",
       "      <td>23.3</td>\n",
       "      <td>0.672</td>\n",
       "      <td>32</td>\n",
       "      <td>1</td>\n",
       "    </tr>\n",
       "    <tr>\n",
       "      <th>3</th>\n",
       "      <td>1</td>\n",
       "      <td>89</td>\n",
       "      <td>66</td>\n",
       "      <td>23</td>\n",
       "      <td>94</td>\n",
       "      <td>28.1</td>\n",
       "      <td>0.167</td>\n",
       "      <td>21</td>\n",
       "      <td>0</td>\n",
       "    </tr>\n",
       "    <tr>\n",
       "      <th>4</th>\n",
       "      <td>0</td>\n",
       "      <td>137</td>\n",
       "      <td>40</td>\n",
       "      <td>35</td>\n",
       "      <td>168</td>\n",
       "      <td>43.1</td>\n",
       "      <td>2.288</td>\n",
       "      <td>33</td>\n",
       "      <td>1</td>\n",
       "    </tr>\n",
       "    <tr>\n",
       "      <th>5</th>\n",
       "      <td>5</td>\n",
       "      <td>116</td>\n",
       "      <td>74</td>\n",
       "      <td>0</td>\n",
       "      <td>0</td>\n",
       "      <td>25.6</td>\n",
       "      <td>0.201</td>\n",
       "      <td>30</td>\n",
       "      <td>0</td>\n",
       "    </tr>\n",
       "    <tr>\n",
       "      <th>6</th>\n",
       "      <td>3</td>\n",
       "      <td>78</td>\n",
       "      <td>50</td>\n",
       "      <td>32</td>\n",
       "      <td>88</td>\n",
       "      <td>31.0</td>\n",
       "      <td>0.248</td>\n",
       "      <td>26</td>\n",
       "      <td>1</td>\n",
       "    </tr>\n",
       "    <tr>\n",
       "      <th>7</th>\n",
       "      <td>10</td>\n",
       "      <td>115</td>\n",
       "      <td>0</td>\n",
       "      <td>0</td>\n",
       "      <td>0</td>\n",
       "      <td>35.3</td>\n",
       "      <td>0.134</td>\n",
       "      <td>29</td>\n",
       "      <td>0</td>\n",
       "    </tr>\n",
       "    <tr>\n",
       "      <th>8</th>\n",
       "      <td>2</td>\n",
       "      <td>197</td>\n",
       "      <td>70</td>\n",
       "      <td>45</td>\n",
       "      <td>543</td>\n",
       "      <td>30.5</td>\n",
       "      <td>0.158</td>\n",
       "      <td>53</td>\n",
       "      <td>1</td>\n",
       "    </tr>\n",
       "    <tr>\n",
       "      <th>9</th>\n",
       "      <td>8</td>\n",
       "      <td>125</td>\n",
       "      <td>96</td>\n",
       "      <td>0</td>\n",
       "      <td>0</td>\n",
       "      <td>0.0</td>\n",
       "      <td>0.232</td>\n",
       "      <td>54</td>\n",
       "      <td>1</td>\n",
       "    </tr>\n",
       "  </tbody>\n",
       "</table>\n",
       "</div>"
      ],
      "text/plain": [
       "   Pregnancies  Glucose  BloodPressure  SkinThickness  Insulin   BMI  \\\n",
       "0            6      148             72             35        0  33.6   \n",
       "1            1       85             66             29        0  26.6   \n",
       "2            8      183             64              0        0  23.3   \n",
       "3            1       89             66             23       94  28.1   \n",
       "4            0      137             40             35      168  43.1   \n",
       "5            5      116             74              0        0  25.6   \n",
       "6            3       78             50             32       88  31.0   \n",
       "7           10      115              0              0        0  35.3   \n",
       "8            2      197             70             45      543  30.5   \n",
       "9            8      125             96              0        0   0.0   \n",
       "\n",
       "   DiabetesPedigreeFunction  Age  Outcome  \n",
       "0                     0.627   50        1  \n",
       "1                     0.351   31        0  \n",
       "2                     0.672   32        1  \n",
       "3                     0.167   21        0  \n",
       "4                     2.288   33        1  \n",
       "5                     0.201   30        0  \n",
       "6                     0.248   26        1  \n",
       "7                     0.134   29        0  \n",
       "8                     0.158   53        1  \n",
       "9                     0.232   54        1  "
      ]
     },
     "execution_count": 15,
     "metadata": {},
     "output_type": "execute_result"
    }
   ],
   "source": [
    "data = pd.read_csv('diabetes.csv')\n",
    "data.head(10)"
   ]
  },
  {
   "cell_type": "code",
   "execution_count": 16,
   "id": "edd6f11e",
   "metadata": {},
   "outputs": [
    {
     "data": {
      "text/plain": [
       "Pregnancies                   int64\n",
       "Glucose                       int64\n",
       "BloodPressure                 int64\n",
       "SkinThickness                 int64\n",
       "Insulin                       int64\n",
       "BMI                         float64\n",
       "DiabetesPedigreeFunction    float64\n",
       "Age                           int64\n",
       "Outcome                       int64\n",
       "dtype: object"
      ]
     },
     "execution_count": 16,
     "metadata": {},
     "output_type": "execute_result"
    }
   ],
   "source": [
    "data.dtypes"
   ]
  },
  {
   "cell_type": "code",
   "execution_count": null,
   "id": "307f7050",
   "metadata": {},
   "outputs": [],
   "source": []
  },
  {
   "cell_type": "code",
   "execution_count": 17,
   "id": "961d43a5",
   "metadata": {},
   "outputs": [
    {
     "data": {
      "text/plain": [
       "array([[  6.   , 148.   ,  72.   , ...,  33.6  ,   0.627,  50.   ],\n",
       "       [  1.   ,  85.   ,  66.   , ...,  26.6  ,   0.351,  31.   ],\n",
       "       [  8.   , 183.   ,  64.   , ...,  23.3  ,   0.672,  32.   ],\n",
       "       ...,\n",
       "       [  5.   , 121.   ,  72.   , ...,  26.2  ,   0.245,  30.   ],\n",
       "       [  1.   , 126.   ,  60.   , ...,  30.1  ,   0.349,  47.   ],\n",
       "       [  1.   ,  93.   ,  70.   , ...,  30.4  ,   0.315,  23.   ]])"
      ]
     },
     "execution_count": 17,
     "metadata": {},
     "output_type": "execute_result"
    }
   ],
   "source": [
    "x = data.iloc[:,:-1].values\n",
    "x"
   ]
  },
  {
   "cell_type": "code",
   "execution_count": 18,
   "id": "b30e78cc",
   "metadata": {},
   "outputs": [
    {
     "data": {
      "text/plain": [
       "array([148,  85, 183,  89, 137, 116,  78, 115, 197, 125, 110, 168, 139,\n",
       "       189, 166, 100, 118, 107, 103, 115, 126,  99, 196, 119, 143, 125,\n",
       "       147,  97, 145, 117, 109, 158,  88,  92, 122, 103, 138, 102,  90,\n",
       "       111, 180, 133, 106, 171, 159, 180, 146,  71, 103, 105, 103, 101,\n",
       "        88, 176, 150,  73, 187, 100, 146, 105,  84, 133,  44, 141, 114,\n",
       "        99, 109, 109,  95, 146, 100, 139, 126, 129,  79,   0,  62,  95,\n",
       "       131, 112, 113,  74,  83, 101, 137, 110, 106, 100, 136, 107,  80,\n",
       "       123,  81, 134, 142, 144,  92,  71,  93, 122, 163, 151, 125,  81,\n",
       "        85, 126,  96, 144,  83,  95, 171, 155,  89,  76, 160, 146, 124,\n",
       "        78,  97,  99, 162, 111, 107, 132, 113,  88, 120, 118, 117, 105,\n",
       "       173, 122, 170,  84,  96, 125, 100,  93, 129, 105, 128, 106, 108,\n",
       "       108, 154, 102,  57, 106, 147,  90, 136, 114, 156, 153, 188, 152,\n",
       "        99, 109,  88, 163, 151, 102, 114, 100, 131, 104, 148, 120, 110,\n",
       "       111, 102, 134,  87,  79,  75, 179,  85, 129, 143, 130,  87, 119,\n",
       "         0,  73, 141, 194, 181, 128, 109, 139, 111, 123, 159, 135,  85,\n",
       "       158, 105, 107, 109, 148, 113, 138, 108,  99, 103, 111, 196, 162,\n",
       "        96, 184,  81, 147, 179, 140, 112, 151, 109, 125,  85, 112, 177,\n",
       "       158, 119, 142, 100,  87, 101, 162, 197, 117, 142, 134,  79, 122,\n",
       "        74, 171, 181, 179, 164, 104,  91,  91, 139, 119, 146, 184, 122,\n",
       "       165, 124, 111, 106, 129,  90,  86,  92, 113, 111, 114, 193, 155,\n",
       "       191, 141,  95, 142, 123,  96, 138, 128, 102, 146, 101, 108, 122,\n",
       "        71, 106, 100, 106, 104, 114, 108, 146, 129, 133, 161, 108, 136,\n",
       "       155, 119,  96, 108,  78, 107, 128, 128, 161, 151, 146, 126, 100,\n",
       "       112, 167, 144,  77, 115, 150, 120, 161, 137, 128, 124,  80, 106,\n",
       "       155, 113, 109, 112,  99, 182, 115, 194, 129, 112, 124, 152, 112,\n",
       "       157, 122, 179, 102, 105, 118,  87, 180, 106,  95, 165, 117, 115,\n",
       "       152, 178, 130,  95,   0, 122,  95, 126, 139, 116,  99,   0,  92,\n",
       "       137,  61,  90,  90, 165, 125, 129,  88, 196, 189, 158, 103, 146,\n",
       "       147,  99, 124, 101,  81, 133, 173, 118,  84, 105, 122, 140,  98,\n",
       "        87, 156,  93, 107, 105, 109,  90, 125, 119, 116, 105, 144, 100,\n",
       "       100, 166, 131, 116, 158, 127,  96, 131,  82, 193,  95, 137, 136,\n",
       "        72, 168, 123, 115, 101, 197, 172, 102, 112, 143, 143, 138, 173,\n",
       "        97, 144,  83, 129, 119,  94, 102, 115, 151, 184,  94, 181, 135,\n",
       "        95,  99,  89,  80, 139,  90, 141, 140, 147,  97, 107, 189,  83,\n",
       "       117, 108, 117, 180, 100,  95, 104, 120,  82, 134,  91, 119, 100,\n",
       "       175, 135,  86, 148, 134, 120,  71,  74,  88, 115, 124,  74,  97,\n",
       "       120, 154, 144, 137, 119, 136, 114, 137, 105, 114, 126, 132, 158,\n",
       "       123,  85,  84, 145, 135, 139, 173,  99, 194,  83,  89,  99, 125,\n",
       "        80, 166, 110,  81, 195, 154, 117,  84,   0,  94,  96,  75, 180,\n",
       "       130,  84, 120,  84, 139,  91,  91,  99, 163, 145, 125,  76, 129,\n",
       "        68, 124, 114, 130, 125,  87,  97, 116, 117, 111, 122, 107,  86,\n",
       "        91,  77, 132, 105,  57, 127, 129, 100, 128,  90,  84,  88, 186,\n",
       "       187, 131, 164, 189, 116,  84, 114,  88,  84, 124,  97, 110, 103,\n",
       "        85, 125, 198,  87,  99,  91,  95,  99,  92, 154, 121,  78, 130,\n",
       "       111,  98, 143, 119, 108, 118, 133, 197, 151, 109, 121, 100, 124,\n",
       "        93, 143, 103, 176,  73, 111, 112, 132,  82, 123, 188,  67,  89,\n",
       "       173, 109, 108,  96, 124, 150, 183, 124, 181,  92, 152, 111, 106,\n",
       "       174, 168, 105, 138, 106, 117,  68, 112, 119, 112,  92, 183,  94,\n",
       "       108,  90, 125, 132, 128,  94, 114, 102, 111, 128,  92, 104, 104,\n",
       "        94,  97, 100, 102, 128, 147,  90, 103, 157, 167, 179, 136, 107,\n",
       "        91, 117, 123, 120, 106, 155, 101, 120, 127,  80, 162, 199, 167,\n",
       "       145, 115, 112, 145, 111,  98, 154, 165,  99,  68, 123,  91, 195,\n",
       "       156,  93, 121, 101,  56, 162,  95, 125, 136, 129, 130, 107, 140,\n",
       "       144, 107, 158, 121, 129,  90, 142, 169,  99, 127, 118, 122, 125,\n",
       "       168, 129, 110,  80, 115, 127, 164,  93, 158, 126, 129, 134, 102,\n",
       "       187, 173,  94, 108,  97,  83, 114, 149, 117, 111, 112, 116, 141,\n",
       "       175,  92, 130, 120, 174, 106, 105,  95, 126,  65,  99, 102, 120,\n",
       "       102, 109, 140, 153, 100, 147,  81, 187, 162, 136, 121, 108, 181,\n",
       "       154, 128, 137, 123, 106, 190,  88, 170,  89, 101, 122, 121, 126,\n",
       "        93], dtype=int64)"
      ]
     },
     "execution_count": 18,
     "metadata": {},
     "output_type": "execute_result"
    }
   ],
   "source": [
    "y = data.iloc[:,1].values\n",
    "y"
   ]
  },
  {
   "cell_type": "code",
   "execution_count": 19,
   "id": "abdd3a46",
   "metadata": {},
   "outputs": [],
   "source": [
    "from sklearn.model_selection import train_test_split\n",
    "x_train,x_test,y_train,y_test = train_test_split(x,y,test_size=0.5,random_state = 42)"
   ]
  },
  {
   "cell_type": "code",
   "execution_count": 20,
   "id": "ceaef9a4",
   "metadata": {},
   "outputs": [],
   "source": [
    "from sklearn.linear_model import LogisticRegression"
   ]
  },
  {
   "cell_type": "code",
   "execution_count": 21,
   "id": "999cbb89",
   "metadata": {
    "scrolled": false
   },
   "outputs": [
    {
     "data": {
      "text/plain": [
       "LinearRegression()"
      ]
     },
     "execution_count": 21,
     "metadata": {},
     "output_type": "execute_result"
    }
   ],
   "source": [
    "from sklearn.linear_model import LinearRegression\n",
    "reg = LinearRegression()\n",
    "reg.fit(x_train, y_train)\n"
   ]
  },
  {
   "cell_type": "code",
   "execution_count": 22,
   "id": "d83eefb0",
   "metadata": {},
   "outputs": [
    {
     "data": {
      "image/png": "[encoded data removed]",
      "text/plain": [
       "<Figure size 432x288 with 2 Axes>"
      ]
     },
     "metadata": {
      "needs_background": "light"
     },
     "output_type": "display_data"
    }
   ],
   "source": [
    "import matplotlib.pyplot as plt\n",
    "plt.scatter(x_train[:, 0], x_train[:, 1], c=y_train, cmap='viridis', marker='o', label='Training Data')\n",
    "plt.xlabel('Feature 1')\n",
    "plt.ylabel('Feature 2')\n",
    "plt.title('Visualization of Training Data')\n",
    "plt.legend()\n",
    "plt.colorbar(label='Class')\n",
    "plt.grid(True)\n",
    "plt.show()\n"
   ]
  },
  {
   "cell_type": "code",
   "execution_count": null,
   "id": "cfcfba30",
   "metadata": {},
   "outputs": [],
   "source": []
  }
 ],
 "metadata": {
  "kernelspec": {
   "display_name": "Python 3 (ipykernel)",
   "language": "python",
   "name": "python3"
  },
  "language_info": {
   "codemirror_mode": {
    "name": "ipython",
    "version": 3
   },
   "file_extension": ".py",
   "mimetype": "text/x-python",
   "name": "python",
   "nbconvert_exporter": "python",
   "pygments_lexer": "ipython3",
   "version": "3.9.12"
  }
 },
 "nbformat": 4,
 "nbformat_minor": 5
}
